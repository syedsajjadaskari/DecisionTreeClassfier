{
  "nbformat": 4,
  "nbformat_minor": 0,
  "metadata": {
    "colab": {
      "name": "Untitled7.ipynb",
      "provenance": [],
      "authorship_tag": "ABX9TyO9eKZLixm94iR5KSgFJHgK",
      "include_colab_link": true
    },
    "kernelspec": {
      "name": "python3",
      "display_name": "Python 3"
    },
    "language_info": {
      "name": "python"
    }
  },
  "cells": [
    {
      "cell_type": "markdown",
      "metadata": {
        "id": "view-in-github",
        "colab_type": "text"
      },
      "source": [
        "<a href=\"https://colab.research.google.com/github/syedsajjadaskari/DecisionTreeClassfier/blob/main/LabAssign6.ipynb\" target=\"_parent\"><img src=\"https://colab.research.google.com/assets/colab-badge.svg\" alt=\"Open In Colab\"/></a>"
      ]
    },
    {
      "cell_type": "markdown",
      "source": [
        "# Decision Tree CLassifier"
      ],
      "metadata": {
        "id": "Sci-YTZqOSpL"
      }
    },
    {
      "cell_type": "code",
      "source": [
        "# Importing the libraries\n",
        "\n",
        "import numpy as np\n",
        "import matplotlib.pyplot as plt\n",
        "import pandas as pd"
      ],
      "metadata": {
        "id": "h7AhOYc-NaUh"
      },
      "execution_count": 32,
      "outputs": []
    },
    {
      "cell_type": "code",
      "source": [
        "datasets = pd.read_csv('Social_Network_Ads.csv')"
      ],
      "metadata": {
        "id": "Mlo92gylOWZN"
      },
      "execution_count": 33,
      "outputs": []
    },
    {
      "cell_type": "code",
      "source": [
        "datasets.head()"
      ],
      "metadata": {
        "colab": {
          "base_uri": "https://localhost:8080/",
          "height": 206
        },
        "id": "KuQOMfLQCtcG",
        "outputId": "29d7db24-1871-4049-edce-0e060989858f"
      },
      "execution_count": 34,
      "outputs": [
        {
          "output_type": "execute_result",
          "data": {
            "text/html": [
              "<div>\n",
              "<style scoped>\n",
              "    .dataframe tbody tr th:only-of-type {\n",
              "        vertical-align: middle;\n",
              "    }\n",
              "\n",
              "    .dataframe tbody tr th {\n",
              "        vertical-align: top;\n",
              "    }\n",
              "\n",
              "    .dataframe thead th {\n",
              "        text-align: right;\n",
              "    }\n",
              "</style>\n",
              "<table border=\"1\" class=\"dataframe\">\n",
              "  <thead>\n",
              "    <tr style=\"text-align: right;\">\n",
              "      <th></th>\n",
              "      <th>User ID</th>\n",
              "      <th>Gender</th>\n",
              "      <th>Age</th>\n",
              "      <th>EstimatedSalary</th>\n",
              "      <th>Purchased</th>\n",
              "    </tr>\n",
              "  </thead>\n",
              "  <tbody>\n",
              "    <tr>\n",
              "      <th>0</th>\n",
              "      <td>15624510</td>\n",
              "      <td>Male</td>\n",
              "      <td>19</td>\n",
              "      <td>19000</td>\n",
              "      <td>0</td>\n",
              "    </tr>\n",
              "    <tr>\n",
              "      <th>1</th>\n",
              "      <td>15810944</td>\n",
              "      <td>Male</td>\n",
              "      <td>35</td>\n",
              "      <td>20000</td>\n",
              "      <td>0</td>\n",
              "    </tr>\n",
              "    <tr>\n",
              "      <th>2</th>\n",
              "      <td>15668575</td>\n",
              "      <td>Female</td>\n",
              "      <td>26</td>\n",
              "      <td>43000</td>\n",
              "      <td>0</td>\n",
              "    </tr>\n",
              "    <tr>\n",
              "      <th>3</th>\n",
              "      <td>15603246</td>\n",
              "      <td>Female</td>\n",
              "      <td>27</td>\n",
              "      <td>57000</td>\n",
              "      <td>0</td>\n",
              "    </tr>\n",
              "    <tr>\n",
              "      <th>4</th>\n",
              "      <td>15804002</td>\n",
              "      <td>Male</td>\n",
              "      <td>19</td>\n",
              "      <td>76000</td>\n",
              "      <td>0</td>\n",
              "    </tr>\n",
              "  </tbody>\n",
              "</table>\n",
              "</div>"
            ],
            "text/plain": [
              "    User ID  Gender  Age  EstimatedSalary  Purchased\n",
              "0  15624510    Male   19            19000          0\n",
              "1  15810944    Male   35            20000          0\n",
              "2  15668575  Female   26            43000          0\n",
              "3  15603246  Female   27            57000          0\n",
              "4  15804002    Male   19            76000          0"
            ]
          },
          "metadata": {},
          "execution_count": 34
        }
      ]
    },
    {
      "cell_type": "code",
      "source": [
        "df = datasets"
      ],
      "metadata": {
        "id": "1LVBfuAZYbFE"
      },
      "execution_count": 35,
      "outputs": []
    },
    {
      "cell_type": "code",
      "source": [
        "#input parameter\n",
        "X = df[['Age','EstimatedSalary']]"
      ],
      "metadata": {
        "id": "cT1hq3hfYna_"
      },
      "execution_count": 36,
      "outputs": []
    },
    {
      "cell_type": "code",
      "source": [
        "Y = df['Purchased']"
      ],
      "metadata": {
        "id": "i4blQ1rVY0_c"
      },
      "execution_count": 37,
      "outputs": []
    },
    {
      "cell_type": "code",
      "source": [
        "df.shape"
      ],
      "metadata": {
        "colab": {
          "base_uri": "https://localhost:8080/"
        },
        "id": "uRijmzjBZC0W",
        "outputId": "7d28791d-548d-4b0e-e3ff-7b28b7a9be16"
      },
      "execution_count": 38,
      "outputs": [
        {
          "output_type": "execute_result",
          "data": {
            "text/plain": [
              "(400, 5)"
            ]
          },
          "metadata": {},
          "execution_count": 38
        }
      ]
    },
    {
      "cell_type": "code",
      "source": [
        "X.shape"
      ],
      "metadata": {
        "colab": {
          "base_uri": "https://localhost:8080/"
        },
        "id": "VkgaBxBuZGP3",
        "outputId": "e85fdc09-cc04-4e6b-cce7-dea892d382e9"
      },
      "execution_count": 39,
      "outputs": [
        {
          "output_type": "execute_result",
          "data": {
            "text/plain": [
              "(400, 2)"
            ]
          },
          "metadata": {},
          "execution_count": 39
        }
      ]
    },
    {
      "cell_type": "code",
      "source": [
        "Y.shape"
      ],
      "metadata": {
        "colab": {
          "base_uri": "https://localhost:8080/"
        },
        "id": "BdcBqDyaZSog",
        "outputId": "e0e6d44a-65c7-4a0f-f66a-379356d68236"
      },
      "execution_count": 40,
      "outputs": [
        {
          "output_type": "execute_result",
          "data": {
            "text/plain": [
              "(400,)"
            ]
          },
          "metadata": {},
          "execution_count": 40
        }
      ]
    },
    {
      "cell_type": "code",
      "source": [
        "# Splitting the dataset into the Training set and Test set\n",
        "\n",
        "from sklearn.model_selection import train_test_split\n",
        "X_Train, X_Test, Y_Train, Y_Test = train_test_split(X, Y, test_size = 0.25, random_state = 0)"
      ],
      "metadata": {
        "id": "6GAtAvb8ZWA-"
      },
      "execution_count": 41,
      "outputs": []
    },
    {
      "cell_type": "code",
      "source": [
        "X_Train.shape, Y_Train.shape, X_Test.shape, Y_Test.shape"
      ],
      "metadata": {
        "colab": {
          "base_uri": "https://localhost:8080/"
        },
        "id": "bqT9auoKZwLF",
        "outputId": "623fd7a9-08ff-4774-f468-6ef322c210ce"
      },
      "execution_count": 43,
      "outputs": [
        {
          "output_type": "execute_result",
          "data": {
            "text/plain": [
              "((300, 2), (300,), (100, 2), (100,))"
            ]
          },
          "metadata": {},
          "execution_count": 43
        }
      ]
    },
    {
      "cell_type": "code",
      "source": [
        "from sklearn.preprocessing import MinMaxScaler\n"
      ],
      "metadata": {
        "id": "-IArliCSaZiF"
      },
      "execution_count": 46,
      "outputs": []
    },
    {
      "cell_type": "code",
      "source": [
        "#\n",
        "SS = MinMaxScaler()"
      ],
      "metadata": {
        "id": "GaE7Y84Ra3ho"
      },
      "execution_count": 55,
      "outputs": []
    },
    {
      "cell_type": "code",
      "source": [
        "SS.fit(X_Train)"
      ],
      "metadata": {
        "colab": {
          "base_uri": "https://localhost:8080/"
        },
        "id": "iW8y_i30a8yf",
        "outputId": "034b4174-119d-4363-d7b3-073e02d868aa"
      },
      "execution_count": 56,
      "outputs": [
        {
          "output_type": "execute_result",
          "data": {
            "text/plain": [
              "MinMaxScaler()"
            ]
          },
          "metadata": {},
          "execution_count": 56
        }
      ]
    },
    {
      "cell_type": "code",
      "source": [
        "X_Train_Scaled = SS.transform(X_Train)"
      ],
      "metadata": {
        "id": "ayPfigZRbNus"
      },
      "execution_count": 57,
      "outputs": []
    },
    {
      "cell_type": "code",
      "source": [
        "X_Test_Scaled = SS.transform(X_Test)"
      ],
      "metadata": {
        "id": "BPEPDFqnbklI"
      },
      "execution_count": 58,
      "outputs": []
    },
    {
      "cell_type": "code",
      "source": [
        "X_Test_Scaled\n",
        "X_Train_Scaled"
      ],
      "metadata": {
        "colab": {
          "base_uri": "https://localhost:8080/"
        },
        "id": "hqITCODScCAV",
        "outputId": "d33401d5-2519-47e5-e423-50fa61fdeef4"
      },
      "execution_count": 59,
      "outputs": [
        {
          "output_type": "execute_result",
          "data": {
            "text/plain": [
              "array([[0.61904762, 0.17777778],\n",
              "       [0.33333333, 0.77777778],\n",
              "       [0.47619048, 0.25925926],\n",
              "       [0.33333333, 0.88888889],\n",
              "       [0.80952381, 0.04444444],\n",
              "       [0.83333333, 0.65925926],\n",
              "       [0.5       , 0.2       ],\n",
              "       [0.47619048, 0.34074074],\n",
              "       [0.42857143, 0.25925926],\n",
              "       [0.42857143, 0.35555556],\n",
              "       [0.4047619 , 0.07407407],\n",
              "       [0.4047619 , 0.25925926],\n",
              "       [0.57142857, 0.42962963],\n",
              "       [0.69047619, 0.25185185],\n",
              "       [0.97619048, 0.1037037 ],\n",
              "       [0.73809524, 0.37037037],\n",
              "       [0.64285714, 0.85925926],\n",
              "       [0.30952381, 0.54814815],\n",
              "       [0.66666667, 0.4962963 ],\n",
              "       [0.69047619, 0.26666667],\n",
              "       [0.19047619, 0.        ],\n",
              "       [1.        , 0.64444444],\n",
              "       [0.47619048, 0.71851852],\n",
              "       [0.52380952, 0.68148148],\n",
              "       [0.57142857, 0.28148148],\n",
              "       [0.4047619 , 0.32592593],\n",
              "       [0.71428571, 0.19259259],\n",
              "       [0.71428571, 0.88148148],\n",
              "       [0.47619048, 0.72592593],\n",
              "       [0.26190476, 0.98518519],\n",
              "       [0.19047619, 0.        ],\n",
              "       [1.        , 0.2       ],\n",
              "       [0.14285714, 0.02962963],\n",
              "       [0.57142857, 0.99259259],\n",
              "       [0.66666667, 0.6       ],\n",
              "       [0.23809524, 0.32592593],\n",
              "       [0.5       , 0.6       ],\n",
              "       [0.23809524, 0.54814815],\n",
              "       [0.54761905, 0.42222222],\n",
              "       [0.64285714, 0.08148148],\n",
              "       [0.35714286, 0.4       ],\n",
              "       [0.04761905, 0.4962963 ],\n",
              "       [0.30952381, 0.43703704],\n",
              "       [0.57142857, 0.48148148],\n",
              "       [0.4047619 , 0.42222222],\n",
              "       [0.35714286, 0.99259259],\n",
              "       [0.52380952, 0.41481481],\n",
              "       [0.78571429, 0.97037037],\n",
              "       [0.66666667, 0.47407407],\n",
              "       [0.4047619 , 0.44444444],\n",
              "       [0.47619048, 0.26666667],\n",
              "       [0.42857143, 0.44444444],\n",
              "       [0.45238095, 0.46666667],\n",
              "       [0.47619048, 0.34074074],\n",
              "       [1.        , 0.68888889],\n",
              "       [0.04761905, 0.4962963 ],\n",
              "       [0.92857143, 0.43703704],\n",
              "       [0.57142857, 0.37037037],\n",
              "       [0.19047619, 0.48148148],\n",
              "       [0.66666667, 0.75555556],\n",
              "       [0.4047619 , 0.34074074],\n",
              "       [0.07142857, 0.39259259],\n",
              "       [0.23809524, 0.21481481],\n",
              "       [0.54761905, 0.53333333],\n",
              "       [0.45238095, 0.13333333],\n",
              "       [0.21428571, 0.55555556],\n",
              "       [0.5       , 0.2       ],\n",
              "       [0.23809524, 0.8       ],\n",
              "       [0.30952381, 0.76296296],\n",
              "       [0.16666667, 0.53333333],\n",
              "       [0.4047619 , 0.41481481],\n",
              "       [0.45238095, 0.40740741],\n",
              "       [0.4047619 , 0.17777778],\n",
              "       [0.69047619, 0.05925926],\n",
              "       [0.4047619 , 0.97777778],\n",
              "       [0.71428571, 0.91111111],\n",
              "       [0.19047619, 0.52592593],\n",
              "       [0.16666667, 0.47407407],\n",
              "       [0.80952381, 0.91111111],\n",
              "       [0.78571429, 0.05925926],\n",
              "       [0.4047619 , 0.33333333],\n",
              "       [0.35714286, 0.72592593],\n",
              "       [0.28571429, 0.68148148],\n",
              "       [0.71428571, 0.13333333],\n",
              "       [0.54761905, 0.48148148],\n",
              "       [0.71428571, 0.6       ],\n",
              "       [0.30952381, 0.02222222],\n",
              "       [0.30952381, 0.41481481],\n",
              "       [0.5952381 , 0.84444444],\n",
              "       [0.97619048, 0.45185185],\n",
              "       [0.        , 0.21481481],\n",
              "       [0.42857143, 0.76296296],\n",
              "       [0.57142857, 0.55555556],\n",
              "       [0.69047619, 0.11111111],\n",
              "       [0.19047619, 0.20740741],\n",
              "       [0.52380952, 0.46666667],\n",
              "       [0.66666667, 0.32592593],\n",
              "       [0.97619048, 0.2       ],\n",
              "       [0.66666667, 0.43703704],\n",
              "       [0.4047619 , 0.56296296],\n",
              "       [0.23809524, 0.32592593],\n",
              "       [0.52380952, 0.31111111],\n",
              "       [0.97619048, 0.94814815],\n",
              "       [0.92857143, 0.08148148],\n",
              "       [0.80952381, 0.17037037],\n",
              "       [0.69047619, 0.72592593],\n",
              "       [0.83333333, 0.94814815],\n",
              "       [0.4047619 , 0.08888889],\n",
              "       [0.95238095, 0.63703704],\n",
              "       [0.64285714, 0.22222222],\n",
              "       [0.11904762, 0.4962963 ],\n",
              "       [0.66666667, 0.05925926],\n",
              "       [0.57142857, 0.37037037],\n",
              "       [0.23809524, 0.51111111],\n",
              "       [0.47619048, 0.32592593],\n",
              "       [0.19047619, 0.51111111],\n",
              "       [0.26190476, 0.0962963 ],\n",
              "       [0.45238095, 0.41481481],\n",
              "       [0.0952381 , 0.2962963 ],\n",
              "       [0.71428571, 0.14814815],\n",
              "       [0.73809524, 0.0962963 ],\n",
              "       [0.47619048, 0.37037037],\n",
              "       [0.21428571, 0.01481481],\n",
              "       [0.66666667, 0.0962963 ],\n",
              "       [0.71428571, 0.93333333],\n",
              "       [0.19047619, 0.01481481],\n",
              "       [0.4047619 , 0.60740741],\n",
              "       [0.5       , 0.32592593],\n",
              "       [0.14285714, 0.08888889],\n",
              "       [0.33333333, 0.02222222],\n",
              "       [0.66666667, 0.54074074],\n",
              "       [0.4047619 , 0.31851852],\n",
              "       [0.9047619 , 0.33333333],\n",
              "       [0.69047619, 0.14074074],\n",
              "       [0.52380952, 0.42222222],\n",
              "       [0.33333333, 0.62962963],\n",
              "       [0.02380952, 0.04444444],\n",
              "       [0.16666667, 0.55555556],\n",
              "       [0.4047619 , 0.54074074],\n",
              "       [0.23809524, 0.12592593],\n",
              "       [0.76190476, 0.03703704],\n",
              "       [0.52380952, 0.32592593],\n",
              "       [0.76190476, 0.21481481],\n",
              "       [0.4047619 , 0.42222222],\n",
              "       [0.52380952, 0.94074074],\n",
              "       [0.66666667, 0.12592593],\n",
              "       [0.5       , 0.41481481],\n",
              "       [0.04761905, 0.43703704],\n",
              "       [0.26190476, 0.44444444],\n",
              "       [0.30952381, 0.45185185],\n",
              "       [0.69047619, 0.07407407],\n",
              "       [0.52380952, 0.34074074],\n",
              "       [0.38095238, 0.71851852],\n",
              "       [0.47619048, 0.48148148],\n",
              "       [0.57142857, 0.44444444],\n",
              "       [0.69047619, 0.23703704],\n",
              "       [0.5       , 0.44444444],\n",
              "       [0.02380952, 0.07407407],\n",
              "       [0.45238095, 0.48148148],\n",
              "       [0.42857143, 0.33333333],\n",
              "       [0.54761905, 0.27407407],\n",
              "       [0.42857143, 0.81481481],\n",
              "       [0.71428571, 0.1037037 ],\n",
              "       [0.42857143, 0.82222222],\n",
              "       [0.78571429, 0.88148148],\n",
              "       [0.21428571, 0.31111111],\n",
              "       [0.47619048, 0.41481481],\n",
              "       [0.5       , 0.34074074],\n",
              "       [0.0952381 , 0.08888889],\n",
              "       [0.35714286, 0.33333333],\n",
              "       [0.71428571, 0.43703704],\n",
              "       [0.95238095, 0.05925926],\n",
              "       [0.83333333, 0.42222222],\n",
              "       [0.33333333, 0.75555556],\n",
              "       [0.85714286, 0.40740741],\n",
              "       [0.28571429, 0.48148148],\n",
              "       [0.95238095, 0.59259259],\n",
              "       [0.19047619, 0.27407407],\n",
              "       [0.64285714, 0.47407407],\n",
              "       [0.14285714, 0.2962963 ],\n",
              "       [0.52380952, 0.44444444],\n",
              "       [0.35714286, 0.0962963 ],\n",
              "       [0.61904762, 0.91851852],\n",
              "       [0.0952381 , 0.02222222],\n",
              "       [0.35714286, 0.26666667],\n",
              "       [0.5952381 , 0.87407407],\n",
              "       [0.14285714, 0.12592593],\n",
              "       [0.66666667, 0.05185185],\n",
              "       [0.4047619 , 0.2962963 ],\n",
              "       [0.85714286, 0.65925926],\n",
              "       [0.71428571, 0.77037037],\n",
              "       [0.4047619 , 0.28148148],\n",
              "       [0.45238095, 0.95555556],\n",
              "       [0.11904762, 0.37777778],\n",
              "       [0.45238095, 0.9037037 ],\n",
              "       [0.30952381, 0.31851852],\n",
              "       [0.35714286, 0.19259259],\n",
              "       [0.64285714, 0.05185185],\n",
              "       [0.28571429, 0.        ],\n",
              "       [0.02380952, 0.02962963],\n",
              "       [0.73809524, 0.43703704],\n",
              "       [0.5       , 0.79259259],\n",
              "       [0.4047619 , 0.42962963],\n",
              "       [0.5       , 0.41481481],\n",
              "       [0.14285714, 0.05925926],\n",
              "       [0.54761905, 0.42222222],\n",
              "       [0.26190476, 0.5037037 ],\n",
              "       [0.85714286, 0.08148148],\n",
              "       [0.4047619 , 0.21481481],\n",
              "       [0.45238095, 0.44444444],\n",
              "       [0.26190476, 0.23703704],\n",
              "       [0.30952381, 0.39259259],\n",
              "       [0.57142857, 0.28888889],\n",
              "       [0.28571429, 0.88888889],\n",
              "       [0.80952381, 0.73333333],\n",
              "       [0.76190476, 0.15555556],\n",
              "       [0.9047619 , 0.87407407],\n",
              "       [0.26190476, 0.34074074],\n",
              "       [0.28571429, 0.54814815],\n",
              "       [0.19047619, 0.00740741],\n",
              "       [0.35714286, 0.11851852],\n",
              "       [0.54761905, 0.42222222],\n",
              "       [0.42857143, 0.13333333],\n",
              "       [0.88095238, 0.81481481],\n",
              "       [0.71428571, 0.85925926],\n",
              "       [0.54761905, 0.41481481],\n",
              "       [0.28571429, 0.34814815],\n",
              "       [0.45238095, 0.42222222],\n",
              "       [0.54761905, 0.35555556],\n",
              "       [0.95238095, 0.23703704],\n",
              "       [0.28571429, 0.74814815],\n",
              "       [0.04761905, 0.25185185],\n",
              "       [0.45238095, 0.43703704],\n",
              "       [0.54761905, 0.32592593],\n",
              "       [0.73809524, 0.54814815],\n",
              "       [0.23809524, 0.47407407],\n",
              "       [0.83333333, 0.4962963 ],\n",
              "       [0.52380952, 0.31111111],\n",
              "       [1.        , 0.14074074],\n",
              "       [0.4047619 , 0.68888889],\n",
              "       [0.07142857, 0.42222222],\n",
              "       [0.47619048, 0.41481481],\n",
              "       [0.5       , 0.67407407],\n",
              "       [0.45238095, 0.31111111],\n",
              "       [0.19047619, 0.42222222],\n",
              "       [0.4047619 , 0.05925926],\n",
              "       [0.85714286, 0.68888889],\n",
              "       [0.28571429, 0.01481481],\n",
              "       [0.5       , 0.88148148],\n",
              "       [0.26190476, 0.20740741],\n",
              "       [0.35714286, 0.20740741],\n",
              "       [0.4047619 , 0.17037037],\n",
              "       [0.54761905, 0.22222222],\n",
              "       [0.54761905, 0.42222222],\n",
              "       [0.5       , 0.88148148],\n",
              "       [0.21428571, 0.9037037 ],\n",
              "       [0.07142857, 0.00740741],\n",
              "       [0.19047619, 0.12592593],\n",
              "       [0.30952381, 0.37777778],\n",
              "       [0.5       , 0.42962963],\n",
              "       [0.54761905, 0.47407407],\n",
              "       [0.69047619, 0.25925926],\n",
              "       [0.54761905, 0.11111111],\n",
              "       [0.45238095, 0.57777778],\n",
              "       [1.        , 0.22962963],\n",
              "       [0.16666667, 0.05185185],\n",
              "       [0.23809524, 0.16296296],\n",
              "       [0.47619048, 0.2962963 ],\n",
              "       [0.42857143, 0.28888889],\n",
              "       [0.04761905, 0.15555556],\n",
              "       [0.9047619 , 0.65925926],\n",
              "       [0.52380952, 0.31111111],\n",
              "       [0.57142857, 0.68888889],\n",
              "       [0.04761905, 0.05925926],\n",
              "       [0.52380952, 0.37037037],\n",
              "       [0.69047619, 0.03703704],\n",
              "       [0.        , 0.52592593],\n",
              "       [0.4047619 , 0.47407407],\n",
              "       [0.92857143, 0.13333333],\n",
              "       [0.38095238, 0.42222222],\n",
              "       [0.73809524, 0.17777778],\n",
              "       [0.21428571, 0.11851852],\n",
              "       [0.02380952, 0.40740741],\n",
              "       [0.5       , 0.47407407],\n",
              "       [0.19047619, 0.48888889],\n",
              "       [0.16666667, 0.48148148],\n",
              "       [0.23809524, 0.51851852],\n",
              "       [0.88095238, 0.17777778],\n",
              "       [0.76190476, 0.54074074],\n",
              "       [0.73809524, 0.54074074],\n",
              "       [0.80952381, 1.        ],\n",
              "       [0.4047619 , 0.37037037],\n",
              "       [0.57142857, 0.28888889],\n",
              "       [0.38095238, 0.20740741],\n",
              "       [0.45238095, 0.27407407],\n",
              "       [0.71428571, 0.11111111],\n",
              "       [0.26190476, 0.20740741],\n",
              "       [0.42857143, 0.27407407],\n",
              "       [0.21428571, 0.28888889],\n",
              "       [0.19047619, 0.76296296]])"
            ]
          },
          "metadata": {},
          "execution_count": 59
        }
      ]
    },
    {
      "cell_type": "code",
      "source": [
        "# Fitting the classifier into the Training set\n",
        "\n",
        "from sklearn.tree import DecisionTreeClassifier\n",
        "model_1 = DecisionTreeClassifier()\n",
        "\n",
        "model_1.fit(X_Train_Scaled, Y_Train)\n"
      ],
      "metadata": {
        "colab": {
          "base_uri": "https://localhost:8080/"
        },
        "id": "5_qSdjRAO3Yz",
        "outputId": "82ce3e5e-16d3-480d-a955-e9b4f93079c5"
      },
      "execution_count": 62,
      "outputs": [
        {
          "output_type": "execute_result",
          "data": {
            "text/plain": [
              "DecisionTreeClassifier()"
            ]
          },
          "metadata": {},
          "execution_count": 62
        }
      ]
    },
    {
      "cell_type": "code",
      "source": [
        ""
      ],
      "metadata": {
        "id": "81AdWS_lDN5n"
      },
      "execution_count": 51,
      "outputs": []
    },
    {
      "cell_type": "code",
      "source": [
        "# Predicting the test set results\n",
        "\n",
        "Y_Pred = model_1.predict(X_Test)"
      ],
      "metadata": {
        "id": "tgbDiYOMO7cK"
      },
      "execution_count": 63,
      "outputs": []
    },
    {
      "cell_type": "code",
      "source": [
        "# Making the Confusion Matrix \n",
        "\n",
        "from sklearn.metrics import confusion_matrix\n",
        "cm = confusion_matrix(Y_Test, Y_Pred)\n",
        "cm"
      ],
      "metadata": {
        "colab": {
          "base_uri": "https://localhost:8080/"
        },
        "id": "fX1eA0YWPEna",
        "outputId": "6fc4ab6c-4277-47a1-989f-f548e870b96f"
      },
      "execution_count": 70,
      "outputs": [
        {
          "output_type": "execute_result",
          "data": {
            "text/plain": [
              "array([[66,  2],\n",
              "       [ 7, 25]])"
            ]
          },
          "metadata": {},
          "execution_count": 70
        }
      ]
    },
    {
      "cell_type": "code",
      "source": [
        "from matplotlib.colors import ListedColormap\n",
        "X_Set, Y_Set = X_Train, Y_Train\n",
        "X1, X2 = np.meshgrid(np.arange(start = X_Set[:, 0].min() - 1, stop = X_Set[:, 0].max() + 1, step = 0.01),\n",
        "                     np.arange(start = X_Set[:, 1].min() - 1, stop = X_Set[:, 1].max() + 1, step = 0.01))\n",
        "plt.contourf(X1, X2, model_1.predict(np.array([X1.ravel(), X2.ravel()]).T).reshape(X1.shape),\n",
        "             alpha = 0.75, cmap = ListedColormap(('red', 'green')))\n",
        "plt.xlim(X1.min(), X1.max())\n",
        "plt.ylim(X2.min(), X2.max())\n",
        "for i, j in enumerate(np.unique(Y_Set)):\n",
        "    plt.scatter(X_Set[Y_Set == j, 0], X_Set[Y_Set == j, 1],\n",
        "                c = ListedColormap(('red', 'green'))(i), label = j)\n",
        "plt.title('Decision Tree Classifier (Training set)')\n",
        "plt.xlabel('Age')\n",
        "plt.ylabel('Estimated Salary')\n",
        "plt.legend()\n",
        "plt.show()"
      ],
      "metadata": {
        "colab": {
          "base_uri": "https://localhost:8080/",
          "height": 350
        },
        "id": "VuoSoswieL4B",
        "outputId": "78f0afb1-2eb0-4bd1-bba8-132cbe17f0a3"
      },
      "execution_count": 79,
      "outputs": [
        {
          "output_type": "stream",
          "name": "stderr",
          "text": [
            "*c* argument looks like a single numeric RGB or RGBA sequence, which should be avoided as value-mapping will have precedence in case its length matches with *x* & *y*.  Please use the *color* keyword-argument or provide a 2-D array with a single row if you intend to specify the same RGB or RGBA value for all points.\n",
            "*c* argument looks like a single numeric RGB or RGBA sequence, which should be avoided as value-mapping will have precedence in case its length matches with *x* & *y*.  Please use the *color* keyword-argument or provide a 2-D array with a single row if you intend to specify the same RGB or RGBA value for all points.\n"
          ]
        },
        {
          "output_type": "display_data",
          "data": {
            "image/png": "[encoded data removed]",
            "text/plain": [
              "<Figure size 432x288 with 1 Axes>"
            ]
          },
          "metadata": {
            "needs_background": "light"
          }
        }
      ]
    },
    {
      "cell_type": "code",
      "source": [
        "# Visualising the Test set results\n",
        "\n",
        "from matplotlib.colors import ListedColormap\n",
        "X_Set, Y_Set = X_Test, Y_Test\n",
        "X1, X2 = np.meshgrid(np.arange(start = X_Set[:, 0].min() - 1, stop = X_Set[:, 0].max() + 1, step = 0.01),\n",
        "                     np.arange(start = X_Set[:, 1].min() - 1, stop = X_Set[:, 1].max() + 1, step = 0.01))\n",
        "plt.contourf(X1, X2, model_1.predict(np.array([X1.ravel(), X2.ravel()]).T).reshape(X1.shape),\n",
        "             alpha = 0.75, cmap = ListedColormap(('red', 'green')))\n",
        "plt.xlim(X1.min(), X1.max())\n",
        "plt.ylim(X2.min(), X2.max())\n",
        "for i, j in enumerate(np.unique(Y_Set)):\n",
        "    plt.scatter(X_Set[Y_Set == j, 0], X_Set[Y_Set == j, 1],\n",
        "                c = ListedColormap(('red', 'green'))(i), label = j)\n",
        "plt.title('Decision Tree Classifier (Test set)')\n",
        "plt.xlabel('Age')\n",
        "plt.ylabel('Estimated Salary')\n",
        "plt.legend()\n",
        "plt.show()"
      ],
      "metadata": {
        "colab": {
          "base_uri": "https://localhost:8080/",
          "height": 350
        },
        "id": "snZU-CR2fxTE",
        "outputId": "5b029b42-5a38-46a4-fef1-717a6bb92e5a"
      },
      "execution_count": 75,
      "outputs": [
        {
          "output_type": "stream",
          "name": "stderr",
          "text": [
            "*c* argument looks like a single numeric RGB or RGBA sequence, which should be avoided as value-mapping will have precedence in case its length matches with *x* & *y*.  Please use the *color* keyword-argument or provide a 2-D array with a single row if you intend to specify the same RGB or RGBA value for all points.\n",
            "*c* argument looks like a single numeric RGB or RGBA sequence, which should be avoided as value-mapping will have precedence in case its length matches with *x* & *y*.  Please use the *color* keyword-argument or provide a 2-D array with a single row if you intend to specify the same RGB or RGBA value for all points.\n"
          ]
        },
        {
          "output_type": "display_data",
          "data": {
            "image/png": "[encoded data removed]",
            "text/plain": [
              "<Figure size 432x288 with 1 Axes>"
            ]
          },
          "metadata": {
            "needs_background": "light"
          }
        }
      ]
    },
    {
      "cell_type": "code",
      "source": [
        ""
      ],
      "metadata": {
        "id": "dSSgWv-7f7oz"
      },
      "execution_count": null,
      "outputs": []
    }
  ]
}